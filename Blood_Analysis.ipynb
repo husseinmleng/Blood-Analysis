{
 "cells": [
  {
   "cell_type": "markdown",
   "metadata": {},
   "source": [
    "# Exploring the Data"
   ]
  },
  {
   "cell_type": "code",
   "execution_count": 2,
   "metadata": {},
   "outputs": [],
   "source": [
    "#import Libraries\n",
    "import pandas as pd\n",
    "import numpy as np"
   ]
  },
  {
   "cell_type": "code",
   "execution_count": null,
   "metadata": {},
   "outputs": [],
   "source": [
    "#import dataset\n",
    "blood_data = pd.read_excel('Book1.xlsx',sheet_name='Sheet1')\n",
    "blood_data.head(10)"
   ]
  },
  {
   "cell_type": "code",
   "execution_count": null,
   "metadata": {},
   "outputs": [],
   "source": [
    "blood_data.info()"
   ]
  },
  {
   "cell_type": "code",
   "execution_count": null,
   "metadata": {},
   "outputs": [],
   "source": [
    "#convert categorical variables to lowercase to avoid mismatch of lower and upper case\n",
    "data = blood_data\n",
    "data['Class'] = [x.lower() for x in data['Class']]\n",
    "data['Class'].value_counts()"
   ]
  },
  {
   "cell_type": "code",
   "execution_count": 5,
   "metadata": {
    "scrolled": true
   },
   "outputs": [
    {
     "data": {
      "text/plain": [
       "female    1016\n",
       "male       362\n",
       "child      122\n",
       "Name: Gender, dtype: int64"
      ]
     },
     "execution_count": 5,
     "metadata": {},
     "output_type": "execute_result"
    }
   ],
   "source": [
    "#convert categorical variables to lowercase to avoid mismatch of lower and upper case\n",
    "data['Gender'] = [x.lower() for x in data['Gender']]\n",
    "data['Gender'].value_counts()"
   ]
  },
  {
   "cell_type": "code",
   "execution_count": 6,
   "metadata": {},
   "outputs": [],
   "source": [
    "#delete ID column \n",
    "data.drop('ID',axis=1,inplace=True)"
   ]
  },
  {
   "cell_type": "markdown",
   "metadata": {},
   "source": [
    "# Preparing data for machine learning model"
   ]
  },
  {
   "cell_type": "code",
   "execution_count": 7,
   "metadata": {},
   "outputs": [
    {
     "data": {
      "text/plain": [
       "array([['female', 47.0, 12.4, 361.0, 8.7],\n",
       "       ['male', 75.0, 11.2, 338.0, 9.8],\n",
       "       ['female', 38.0, 11.6, 288.0, 5.6],\n",
       "       ...,\n",
       "       ['female', 68.0, 11.4, 233.0, 8.4],\n",
       "       ['child', 13.0, 12.8, 345.0, 3.9],\n",
       "       ['male', 47.0, 13.8, 218.0, 15.2]], dtype=object)"
      ]
     },
     "execution_count": 7,
     "metadata": {},
     "output_type": "execute_result"
    }
   ],
   "source": [
    "# split data to X and y to be inputes for Model\n",
    "X = data.iloc[:,:-1].values\n",
    "y = data.iloc[:,-1].values\n",
    "X"
   ]
  },
  {
   "cell_type": "code",
   "execution_count": 8,
   "metadata": {
    "scrolled": true
   },
   "outputs": [],
   "source": [
    "# Encoding the Independent Variable (X)\n",
    "from sklearn.compose import ColumnTransformer\n",
    "from sklearn.preprocessing import OneHotEncoder\n",
    "ct = ColumnTransformer(transformers=[('encoder', OneHotEncoder(), [0])], remainder='passthrough')\n",
    "X = np.array(ct.fit_transform(X))"
   ]
  },
  {
   "cell_type": "code",
   "execution_count": 9,
   "metadata": {},
   "outputs": [],
   "source": [
    "# Encoding the Dependent Variable (y)\n",
    "from sklearn.preprocessing import LabelEncoder\n",
    "le = LabelEncoder()\n",
    "y = le.fit_transform(y)"
   ]
  },
  {
   "cell_type": "code",
   "execution_count": 10,
   "metadata": {},
   "outputs": [],
   "source": [
    "#split the data into train and test sets\n",
    "from sklearn.model_selection import train_test_split\n",
    "X_train, X_test, y_train, y_test= train_test_split(X,y, test_size=0.2, random_state=42)"
   ]
  },
  {
   "cell_type": "code",
   "execution_count": 11,
   "metadata": {},
   "outputs": [
    {
     "data": {
      "text/plain": [
       "array([[1.0, 0.0, 0.0, ..., 10.8, 379.0, 12.3],\n",
       "       [0.0, 1.0, 0.0, ..., 11.5, 257.0, 8.5],\n",
       "       [0.0, 0.0, 1.0, ..., 15.3, 283.0, 2.3],\n",
       "       ...,\n",
       "       [0.0, 1.0, 0.0, ..., 12.3, 239.0, 6.0],\n",
       "       [0.0, 1.0, 0.0, ..., 8.0, 209.0, 9.0],\n",
       "       [0.0, 1.0, 0.0, ..., 10.0, 308.0, 10.4]], dtype=object)"
      ]
     },
     "execution_count": 11,
     "metadata": {},
     "output_type": "execute_result"
    }
   ],
   "source": [
    "X_train"
   ]
  },
  {
   "cell_type": "code",
   "execution_count": 12,
   "metadata": {},
   "outputs": [],
   "source": [
    "# Feature Scaling as model senstive to data values we have to do feature scaling to improve results\n",
    "from sklearn.preprocessing import StandardScaler\n",
    "sc = StandardScaler()\n",
    "X_train = sc.fit_transform(X_train)\n",
    "X_test = sc.transform(X_test)"
   ]
  },
  {
   "cell_type": "markdown",
   "metadata": {},
   "source": [
    "# Fit and Evaluate Machine Learning Models "
   ]
  },
  {
   "cell_type": "code",
   "execution_count": 13,
   "metadata": {
    "scrolled": false
   },
   "outputs": [
    {
     "name": "stdout",
     "output_type": "stream",
     "text": [
      "accuracy : 0.95\n"
     ]
    }
   ],
   "source": [
    "# Training the Random Forest Classification model on the Training set\n",
    "from sklearn.ensemble import RandomForestClassifier\n",
    "classifier = RandomForestClassifier(n_estimators = 200, criterion = 'entropy', random_state = 0)\n",
    "classifier.fit(X_train, y_train)\n",
    "from sklearn.metrics import  accuracy_score\n",
    "y_pred = classifier.predict(X_test)\n",
    "print(\"accuracy : %.2f\"%accuracy_score(y_test, y_pred))"
   ]
  },
  {
   "cell_type": "markdown",
   "metadata": {},
   "source": [
    "# Predict New Data"
   ]
  },
  {
   "cell_type": "code",
   "execution_count": 14,
   "metadata": {},
   "outputs": [
    {
     "data": {
      "text/plain": [
       "{0: 'anemia',\n",
       " 1: 'leucocytosis',\n",
       " 2: 'leucopenia',\n",
       " 3: 'normal ',\n",
       " 4: 'thrombocytopenia',\n",
       " 5: 'thrombocytosis'}"
      ]
     },
     "execution_count": 14,
     "metadata": {},
     "output_type": "execute_result"
    }
   ],
   "source": [
    "#get classes names and prepare it for prediction\n",
    "classes_names = le.inverse_transform(classifier.classes_)\n",
    "classes_indecies = classifier.classes_\n",
    "classes_list = [x for x in zip(classes_indecies,classes_names,)]\n",
    "classes_prediction = dict(classes_list)\n",
    "classes_prediction"
   ]
  },
  {
   "cell_type": "code",
   "execution_count": 15,
   "metadata": {},
   "outputs": [],
   "source": [
    "# Gender is categorical variable so it must be converted to encoded numbers \n",
    "d = {\"child\" : \"1.0,0.0,0.0\",\n",
    "\"female\" : \"0.0,1.0,0.0\",\n",
    "\"male\" : \"0.0,0.0,1.0\"}"
   ]
  },
  {
   "cell_type": "code",
   "execution_count": 17,
   "metadata": {},
   "outputs": [
    {
     "name": "stdout",
     "output_type": "stream",
     "text": [
      "Input Patient Gender : female\n",
      "Insert Patient Age : 47\n",
      "Insert Patient Haemoglobin : 12.4\n",
      "Insert Patient Platelets : 361\n",
      "Insert Patient WBCs : 8.7\n",
      "Prediction : normal \n"
     ]
    }
   ],
   "source": [
    "gender = input(\"Input Patient Gender : \")\n",
    "#get lower case of input\n",
    "gender = gender.lower()\n",
    "#retrieve corresponding encoded value of input gender\n",
    "gender = d[gender]\n",
    "# convert values from string to float\n",
    "gender = [float(i) for i in gender.split(',')]\n",
    "#input remaining results\n",
    "age = float(input(\"Insert Patient Age : \"))\n",
    "haemoglobin = float(input(\"Insert Patient Haemoglobin : \"))\n",
    "platelets = float(input(\"Insert Patient Platelets : \"))\n",
    "wbc = float(input(\"Insert Patient WBCs : \"))\n",
    "#transform values for model to make prediction\n",
    "var = sc.transform([[gender[0],gender[1],gender[2],age,haemoglobin,platelets,wbc]])\n",
    "#get prediction result \n",
    "prediction = classifier.predict(var)\n",
    "print(\"Prediction : %s\"%classes_prediction[prediction[0]])"
   ]
  },
  {
   "cell_type": "code",
   "execution_count": null,
   "metadata": {},
   "outputs": [],
   "source": [
    "#Female\t47.0\t12.4\t361.0\t8.7\tNormal"
   ]
  }
 ],
 "metadata": {
  "kernelspec": {
   "display_name": "Python 3 (ipykernel)",
   "language": "python",
   "name": "python3"
  },
  "language_info": {
   "codemirror_mode": {
    "name": "ipython",
    "version": 3
   },
   "file_extension": ".py",
   "mimetype": "text/x-python",
   "name": "python",
   "nbconvert_exporter": "python",
   "pygments_lexer": "ipython3",
   "version": "3.8.13"
  }
 },
 "nbformat": 4,
 "nbformat_minor": 4
}

{
 "cells": [
  {
   "cell_type": "markdown",
   "metadata": {},
   "source": [
    "# Exploring the Data"
   ]
  },
  {
   "cell_type": "code",
   "execution_count": 38,
   "metadata": {},
   "outputs": [],
   "source": [
    "#import Libraries\n",
    "import pandas as pd\n",
    "import numpy as np"
   ]
  },
  {
   "cell_type": "code",
   "execution_count": 39,
   "metadata": {},
   "outputs": [
    {
     "data": {
      "text/html": [
       "<div>\n",
       "<style scoped>\n",
       "    .dataframe tbody tr th:only-of-type {\n",
       "        vertical-align: middle;\n",
       "    }\n",
       "\n",
       "    .dataframe tbody tr th {\n",
       "        vertical-align: top;\n",
       "    }\n",
       "\n",
       "    .dataframe thead th {\n",
       "        text-align: right;\n",
       "    }\n",
       "</style>\n",
       "<table border=\"1\" class=\"dataframe\">\n",
       "  <thead>\n",
       "    <tr style=\"text-align: right;\">\n",
       "      <th></th>\n",
       "      <th>ID</th>\n",
       "      <th>Gender</th>\n",
       "      <th>Age</th>\n",
       "      <th>Haemoglobin</th>\n",
       "      <th>Platelets</th>\n",
       "      <th>WBCs</th>\n",
       "      <th>Class</th>\n",
       "    </tr>\n",
       "  </thead>\n",
       "  <tbody>\n",
       "    <tr>\n",
       "      <th>0</th>\n",
       "      <td>Patient.1</td>\n",
       "      <td>Female</td>\n",
       "      <td>47.0</td>\n",
       "      <td>12.4</td>\n",
       "      <td>361.0</td>\n",
       "      <td>8.7</td>\n",
       "      <td>Normal</td>\n",
       "    </tr>\n",
       "    <tr>\n",
       "      <th>1</th>\n",
       "      <td>Patient.2</td>\n",
       "      <td>Male</td>\n",
       "      <td>75.0</td>\n",
       "      <td>11.2</td>\n",
       "      <td>338.0</td>\n",
       "      <td>9.8</td>\n",
       "      <td>Anemia</td>\n",
       "    </tr>\n",
       "    <tr>\n",
       "      <th>2</th>\n",
       "      <td>Patient.3</td>\n",
       "      <td>Female</td>\n",
       "      <td>38.0</td>\n",
       "      <td>11.6</td>\n",
       "      <td>288.0</td>\n",
       "      <td>5.6</td>\n",
       "      <td>Anemia</td>\n",
       "    </tr>\n",
       "    <tr>\n",
       "      <th>3</th>\n",
       "      <td>Patient.4</td>\n",
       "      <td>Male</td>\n",
       "      <td>35.0</td>\n",
       "      <td>14.2</td>\n",
       "      <td>248.0</td>\n",
       "      <td>9.1</td>\n",
       "      <td>Normal</td>\n",
       "    </tr>\n",
       "    <tr>\n",
       "      <th>4</th>\n",
       "      <td>Patient.5</td>\n",
       "      <td>Male</td>\n",
       "      <td>32.0</td>\n",
       "      <td>14.5</td>\n",
       "      <td>276.0</td>\n",
       "      <td>10.1</td>\n",
       "      <td>Normal</td>\n",
       "    </tr>\n",
       "    <tr>\n",
       "      <th>5</th>\n",
       "      <td>Patient.6</td>\n",
       "      <td>Male</td>\n",
       "      <td>34.0</td>\n",
       "      <td>16.8</td>\n",
       "      <td>291.0</td>\n",
       "      <td>19.2</td>\n",
       "      <td>Leucocytosis</td>\n",
       "    </tr>\n",
       "    <tr>\n",
       "      <th>6</th>\n",
       "      <td>Patient.7</td>\n",
       "      <td>Female</td>\n",
       "      <td>30.0</td>\n",
       "      <td>11.2</td>\n",
       "      <td>312.0</td>\n",
       "      <td>8.0</td>\n",
       "      <td>Anemia</td>\n",
       "    </tr>\n",
       "    <tr>\n",
       "      <th>7</th>\n",
       "      <td>Patient.8</td>\n",
       "      <td>Female</td>\n",
       "      <td>31.0</td>\n",
       "      <td>15.3</td>\n",
       "      <td>199.0</td>\n",
       "      <td>5.3</td>\n",
       "      <td>Normal</td>\n",
       "    </tr>\n",
       "    <tr>\n",
       "      <th>8</th>\n",
       "      <td>Patient.9</td>\n",
       "      <td>Male</td>\n",
       "      <td>27.0</td>\n",
       "      <td>15.1</td>\n",
       "      <td>210.0</td>\n",
       "      <td>10.4</td>\n",
       "      <td>Normal</td>\n",
       "    </tr>\n",
       "    <tr>\n",
       "      <th>9</th>\n",
       "      <td>Patient.10</td>\n",
       "      <td>Male</td>\n",
       "      <td>23.0</td>\n",
       "      <td>15.4</td>\n",
       "      <td>230.0</td>\n",
       "      <td>5.7</td>\n",
       "      <td>Normal</td>\n",
       "    </tr>\n",
       "  </tbody>\n",
       "</table>\n",
       "</div>"
      ],
      "text/plain": [
       "           ID  Gender  Age   Haemoglobin  Platelets  WBCs         Class\n",
       "0   Patient.1  Female  47.0         12.4      361.0   8.7       Normal \n",
       "1   Patient.2    Male  75.0         11.2      338.0   9.8        Anemia\n",
       "2   Patient.3  Female  38.0         11.6      288.0   5.6        Anemia\n",
       "3   Patient.4    Male  35.0         14.2      248.0   9.1       Normal \n",
       "4   Patient.5    Male  32.0         14.5      276.0  10.1       Normal \n",
       "5   Patient.6    Male  34.0         16.8      291.0  19.2  Leucocytosis\n",
       "6   Patient.7  Female  30.0         11.2      312.0   8.0        Anemia\n",
       "7   Patient.8  Female  31.0         15.3      199.0   5.3       Normal \n",
       "8   Patient.9    Male  27.0         15.1      210.0  10.4       Normal \n",
       "9  Patient.10    Male  23.0         15.4      230.0   5.7       Normal "
      ]
     },
     "execution_count": 39,
     "metadata": {},
     "output_type": "execute_result"
    }
   ],
   "source": [
    "#import dataset\n",
    "blood_data = pd.read_excel('Book1.xlsx',sheet_name='Sheet1')\n",
    "blood_data.head(10)"
   ]
  },
  {
   "cell_type": "code",
   "execution_count": 40,
   "metadata": {},
   "outputs": [
    {
     "name": "stdout",
     "output_type": "stream",
     "text": [
      "<class 'pandas.core.frame.DataFrame'>\n",
      "RangeIndex: 1500 entries, 0 to 1499\n",
      "Data columns (total 7 columns):\n",
      " #   Column       Non-Null Count  Dtype  \n",
      "---  ------       --------------  -----  \n",
      " 0   ID           1500 non-null   object \n",
      " 1   Gender       1500 non-null   object \n",
      " 2   Age          1500 non-null   float64\n",
      " 3   Haemoglobin  1500 non-null   float64\n",
      " 4   Platelets    1500 non-null   float64\n",
      " 5   WBCs         1500 non-null   float64\n",
      " 6   Class        1500 non-null   object \n",
      "dtypes: float64(4), object(3)\n",
      "memory usage: 82.2+ KB\n"
     ]
    }
   ],
   "source": [
    "blood_data.info()"
   ]
  },
  {
   "cell_type": "code",
   "execution_count": 41,
   "metadata": {},
   "outputs": [
    {
     "data": {
      "text/plain": [
       "anemia              671\n",
       "normal              453\n",
       "leucocytosis        171\n",
       "thrombocytopenia     99\n",
       "thrombocytosis       56\n",
       "leucopenia           50\n",
       "Name: Class, dtype: int64"
      ]
     },
     "execution_count": 41,
     "metadata": {},
     "output_type": "execute_result"
    }
   ],
   "source": [
    "#convert categorical variables to lowercase to avoid mismatch of lower and upper case\n",
    "data = blood_data\n",
    "data['Class'] = [x.lower() for x in data['Class']]\n",
    "data['Class'].value_counts()"
   ]
  },
  {
   "cell_type": "code",
   "execution_count": 42,
   "metadata": {
    "scrolled": true
   },
   "outputs": [
    {
     "data": {
      "text/plain": [
       "female    1016\n",
       "male       362\n",
       "child      122\n",
       "Name: Gender, dtype: int64"
      ]
     },
     "execution_count": 42,
     "metadata": {},
     "output_type": "execute_result"
    }
   ],
   "source": [
    "#convert categorical variables to lowercase to avoid mismatch of lower and upper case\n",
    "data['Gender'] = [x.lower() for x in data['Gender']]\n",
    "data['Gender'].value_counts()"
   ]
  },
  {
   "cell_type": "code",
   "execution_count": 43,
   "metadata": {},
   "outputs": [],
   "source": [
    "#delete ID column \n",
    "data.drop('ID',axis=1,inplace=True)"
   ]
  },
  {
   "cell_type": "markdown",
   "metadata": {},
   "source": [
    "# Preparing data for machine learning model"
   ]
  },
  {
   "cell_type": "code",
   "execution_count": 44,
   "metadata": {},
   "outputs": [
    {
     "data": {
      "text/plain": [
       "array([['female', 47.0, 12.4, 361.0, 8.7],\n",
       "       ['male', 75.0, 11.2, 338.0, 9.8],\n",
       "       ['female', 38.0, 11.6, 288.0, 5.6],\n",
       "       ...,\n",
       "       ['female', 68.0, 11.4, 233.0, 8.4],\n",
       "       ['child', 13.0, 12.8, 345.0, 3.9],\n",
       "       ['male', 47.0, 13.8, 218.0, 15.2]], dtype=object)"
      ]
     },
     "execution_count": 44,
     "metadata": {},
     "output_type": "execute_result"
    }
   ],
   "source": [
    "# split data to X and y to be inputes for Model\n",
    "X = data.iloc[:,:-1].values\n",
    "y = data.iloc[:,-1].values\n",
    "X"
   ]
  },
  {
   "cell_type": "code",
   "execution_count": 45,
   "metadata": {
    "scrolled": true
   },
   "outputs": [],
   "source": [
    "# Encoding the Independent Variable (X)\n",
    "from sklearn.compose import ColumnTransformer\n",
    "from sklearn.preprocessing import OneHotEncoder\n",
    "ct = ColumnTransformer(transformers=[('encoder', OneHotEncoder(), [0])], remainder='passthrough')\n",
    "X = np.array(ct.fit_transform(X))"
   ]
  },
  {
   "cell_type": "code",
   "execution_count": 46,
   "metadata": {},
   "outputs": [],
   "source": [
    "# Encoding the Dependent Variable (y)\n",
    "from sklearn.preprocessing import LabelEncoder\n",
    "le = LabelEncoder()\n",
    "y = le.fit_transform(y)"
   ]
  },
  {
   "cell_type": "code",
   "execution_count": 47,
   "metadata": {},
   "outputs": [],
   "source": [
    "#split the data into train and test sets\n",
    "from sklearn.model_selection import train_test_split\n",
    "X_train, X_test, y_train, y_test= train_test_split(X,y, test_size=0.2, random_state=42)"
   ]
  },
  {
   "cell_type": "code",
   "execution_count": 48,
   "metadata": {},
   "outputs": [
    {
     "data": {
      "text/plain": [
       "array([[1.0, 0.0, 0.0, ..., 10.8, 379.0, 12.3],\n",
       "       [0.0, 1.0, 0.0, ..., 11.5, 257.0, 8.5],\n",
       "       [0.0, 0.0, 1.0, ..., 15.3, 283.0, 2.3],\n",
       "       ...,\n",
       "       [0.0, 1.0, 0.0, ..., 12.3, 239.0, 6.0],\n",
       "       [0.0, 1.0, 0.0, ..., 8.0, 209.0, 9.0],\n",
       "       [0.0, 1.0, 0.0, ..., 10.0, 308.0, 10.4]], dtype=object)"
      ]
     },
     "execution_count": 48,
     "metadata": {},
     "output_type": "execute_result"
    }
   ],
   "source": [
    "X_train"
   ]
  },
  {
   "cell_type": "code",
   "execution_count": 49,
   "metadata": {},
   "outputs": [],
   "source": [
    "# Feature Scaling as model senstive to data values we have to do feature scaling to improve results\n",
    "from sklearn.preprocessing import StandardScaler\n",
    "sc = StandardScaler()\n",
    "X_train = sc.fit_transform(X_train)\n",
    "X_test = sc.transform(X_test)"
   ]
  },
  {
   "cell_type": "markdown",
   "metadata": {},
   "source": [
    "# Fit and Evaluate Machine Learning Models "
   ]
  },
  {
   "cell_type": "code",
   "execution_count": 50,
   "metadata": {
    "scrolled": false
   },
   "outputs": [
    {
     "name": "stdout",
     "output_type": "stream",
     "text": [
      "accuracy : 0.95\n"
     ]
    }
   ],
   "source": [
    "# Training the Random Forest Classification model on the Training set\n",
    "from sklearn.ensemble import RandomForestClassifier\n",
    "classifier = RandomForestClassifier(n_estimators = 200, criterion = 'entropy', random_state = 0)\n",
    "classifier.fit(X_train, y_train)\n",
    "from sklearn.metrics import  accuracy_score\n",
    "y_pred = classifier.predict(X_test)\n",
    "print(\"accuracy : %.2f\"%accuracy_score(y_test, y_pred))"
   ]
  },
  {
   "cell_type": "markdown",
   "metadata": {},
   "source": [
    "# Predict New Data"
   ]
  },
  {
   "cell_type": "code",
   "execution_count": 55,
   "metadata": {},
   "outputs": [
    {
     "data": {
      "text/plain": [
       "{0: 'anemia',\n",
       " 1: 'leucocytosis',\n",
       " 2: 'leucopenia',\n",
       " 3: 'normal ',\n",
       " 4: 'thrombocytopenia',\n",
       " 5: 'thrombocytosis'}"
      ]
     },
     "execution_count": 55,
     "metadata": {},
     "output_type": "execute_result"
    }
   ],
   "source": [
    "#get classes names and prepare it for prediction\n",
    "classes_names = le.inverse_transform(classifier.classes_)\n",
    "classes_indecies = classifier.classes_\n",
    "classes_list = [x for x in zip(classes_indecies,classes_names,)]\n",
    "classes_prediction = dict(classes_list)\n",
    "classes_prediction"
   ]
  },
  {
   "cell_type": "code",
   "execution_count": 52,
   "metadata": {},
   "outputs": [],
   "source": [
    "# Gender is categorical variable so it must be converted to encoded numbers \n",
    "d = {\"child\" : \"1.0,0.0,0.0\",\n",
    "\"female\" : \"0.0,1.0,0.0\",\n",
    "\"male\" : \"0.0,0.0,1.0\"}"
   ]
  },
  {
   "cell_type": "code",
   "execution_count": 54,
   "metadata": {},
   "outputs": [
    {
     "ename": "KeyboardInterrupt",
     "evalue": "Interrupted by user",
     "output_type": "error",
     "traceback": [
      "\u001b[0;31m-----------------------------------------------------------------------\u001b[0m",
      "\u001b[0;31mKeyboardInterrupt\u001b[0m                     Traceback (most recent call last)",
      "\u001b[0;32m<ipython-input-54-bdb499b84445>\u001b[0m in \u001b[0;36m<module>\u001b[0;34m\u001b[0m\n\u001b[0;32m----> 1\u001b[0;31m \u001b[0mgender\u001b[0m \u001b[0;34m=\u001b[0m \u001b[0minput\u001b[0m\u001b[0;34m(\u001b[0m\u001b[0;34m\"Input Patient Gender : \"\u001b[0m\u001b[0;34m)\u001b[0m\u001b[0;34m\u001b[0m\u001b[0;34m\u001b[0m\u001b[0m\n\u001b[0m\u001b[1;32m      2\u001b[0m \u001b[0;31m#get lower case of input\u001b[0m\u001b[0;34m\u001b[0m\u001b[0;34m\u001b[0m\u001b[0;34m\u001b[0m\u001b[0m\n\u001b[1;32m      3\u001b[0m \u001b[0mgender\u001b[0m \u001b[0;34m=\u001b[0m \u001b[0mgender\u001b[0m\u001b[0;34m.\u001b[0m\u001b[0mlower\u001b[0m\u001b[0;34m(\u001b[0m\u001b[0;34m)\u001b[0m\u001b[0;34m\u001b[0m\u001b[0;34m\u001b[0m\u001b[0m\n\u001b[1;32m      4\u001b[0m \u001b[0;31m#retrieve corresponding encoded value of input gender\u001b[0m\u001b[0;34m\u001b[0m\u001b[0;34m\u001b[0m\u001b[0;34m\u001b[0m\u001b[0m\n\u001b[1;32m      5\u001b[0m \u001b[0mgender\u001b[0m \u001b[0;34m=\u001b[0m \u001b[0md\u001b[0m\u001b[0;34m[\u001b[0m\u001b[0mgender\u001b[0m\u001b[0;34m]\u001b[0m\u001b[0;34m\u001b[0m\u001b[0;34m\u001b[0m\u001b[0m\n",
      "\u001b[0;32m/usr/local/anaconda/lib/python3.7/site-packages/ipykernel/kernelbase.py\u001b[0m in \u001b[0;36mraw_input\u001b[0;34m(self, prompt)\u001b[0m\n\u001b[1;32m    861\u001b[0m             \u001b[0mself\u001b[0m\u001b[0;34m.\u001b[0m\u001b[0m_parent_ident\u001b[0m\u001b[0;34m,\u001b[0m\u001b[0;34m\u001b[0m\u001b[0;34m\u001b[0m\u001b[0m\n\u001b[1;32m    862\u001b[0m             \u001b[0mself\u001b[0m\u001b[0;34m.\u001b[0m\u001b[0m_parent_header\u001b[0m\u001b[0;34m,\u001b[0m\u001b[0;34m\u001b[0m\u001b[0;34m\u001b[0m\u001b[0m\n\u001b[0;32m--> 863\u001b[0;31m             \u001b[0mpassword\u001b[0m\u001b[0;34m=\u001b[0m\u001b[0;32mFalse\u001b[0m\u001b[0;34m,\u001b[0m\u001b[0;34m\u001b[0m\u001b[0;34m\u001b[0m\u001b[0m\n\u001b[0m\u001b[1;32m    864\u001b[0m         )\n\u001b[1;32m    865\u001b[0m \u001b[0;34m\u001b[0m\u001b[0m\n",
      "\u001b[0;32m/usr/local/anaconda/lib/python3.7/site-packages/ipykernel/kernelbase.py\u001b[0m in \u001b[0;36m_input_request\u001b[0;34m(self, prompt, ident, parent, password)\u001b[0m\n\u001b[1;32m    902\u001b[0m             \u001b[0;32mexcept\u001b[0m \u001b[0mKeyboardInterrupt\u001b[0m\u001b[0;34m:\u001b[0m\u001b[0;34m\u001b[0m\u001b[0;34m\u001b[0m\u001b[0m\n\u001b[1;32m    903\u001b[0m                 \u001b[0;31m# re-raise KeyboardInterrupt, to truncate traceback\u001b[0m\u001b[0;34m\u001b[0m\u001b[0;34m\u001b[0m\u001b[0;34m\u001b[0m\u001b[0m\n\u001b[0;32m--> 904\u001b[0;31m                 \u001b[0;32mraise\u001b[0m \u001b[0mKeyboardInterrupt\u001b[0m\u001b[0;34m(\u001b[0m\u001b[0;34m\"Interrupted by user\"\u001b[0m\u001b[0;34m)\u001b[0m \u001b[0;32mfrom\u001b[0m \u001b[0;32mNone\u001b[0m\u001b[0;34m\u001b[0m\u001b[0;34m\u001b[0m\u001b[0m\n\u001b[0m\u001b[1;32m    905\u001b[0m             \u001b[0;32mexcept\u001b[0m \u001b[0mException\u001b[0m \u001b[0;32mas\u001b[0m \u001b[0me\u001b[0m\u001b[0;34m:\u001b[0m\u001b[0;34m\u001b[0m\u001b[0;34m\u001b[0m\u001b[0m\n\u001b[1;32m    906\u001b[0m                 \u001b[0mself\u001b[0m\u001b[0;34m.\u001b[0m\u001b[0mlog\u001b[0m\u001b[0;34m.\u001b[0m\u001b[0mwarning\u001b[0m\u001b[0;34m(\u001b[0m\u001b[0;34m\"Invalid Message:\"\u001b[0m\u001b[0;34m,\u001b[0m \u001b[0mexc_info\u001b[0m\u001b[0;34m=\u001b[0m\u001b[0;32mTrue\u001b[0m\u001b[0;34m)\u001b[0m\u001b[0;34m\u001b[0m\u001b[0;34m\u001b[0m\u001b[0m\n",
      "\u001b[0;31mKeyboardInterrupt\u001b[0m: Interrupted by user"
     ]
    }
   ],
   "source": [
    "gender = input(\"Input Patient Gender : \")\n",
    "#get lower case of input\n",
    "gender = gender.lower()\n",
    "#retrieve corresponding encoded value of input gender\n",
    "gender = d[gender]\n",
    "# convert values from string to float\n",
    "gender = [float(i) for i in gender.split(',')]\n",
    "#input remaining results\n",
    "age = float(input(\"Insert Patient Age : \"))\n",
    "haemoglobin = float(input(\"Insert Patient Haemoglobin : \"))\n",
    "platelets = float(input(\"Insert Patient Platelets : \"))\n",
    "wbc = float(input(\"Insert Patient WBCs : \"))\n",
    "#transform values for model to make prediction\n",
    "var = sc.transform([[gender[0],gender[1],gender[2],age,haemoglobin,platelets,wbc]])\n",
    "#get prediction result \n",
    "prediction = classifier.predict(var)\n",
    "print(\"Prediction : %s\"%classes_prediction[prediction[0]])"
   ]
  }
 ],
 "metadata": {
  "kernelspec": {
   "display_name": "Python 3",
   "language": "python",
   "name": "python3"
  },
  "language_info": {
   "codemirror_mode": {
    "name": "ipython",
    "version": 3
   },
   "file_extension": ".py",
   "mimetype": "text/x-python",
   "name": "python",
   "nbconvert_exporter": "python",
   "pygments_lexer": "ipython3",
   "version": "3.7.10"
  }
 },
 "nbformat": 4,
 "nbformat_minor": 4
}
